{
 "cells": [
  {
   "cell_type": "code",
   "execution_count": 1,
   "metadata": {
    "collapsed": true,
    "pycharm": {
     "name": "#%%\n"
    }
   },
   "outputs": [],
   "source": [
    "import re\n",
    "import csv\n",
    "import os\n",
    "import numpy as np\n",
    "import pandas as pd\n",
    "import datetime\n",
    "import matplotlib.pyplot as plt\n",
    "import pickle\n",
    "import push_up"
   ]
  },
  {
   "cell_type": "code",
   "execution_count": null,
   "outputs": [],
   "source": [
    "def read_airscope_csv_file(file_path):\n",
    "    df =pd.read_csv(file_path,sep=';')\n",
    "    for idx, row in enumerate(df['tstamp']):\n",
    "        str_time = datetime.datetime.fromtimestamp(row / 1000000.0).strftime('%H:%M:%S.%f')\n",
    "        data_time = datetime.datetime.strptime(str_time,'%H:%M:%S.%f')\n",
    "        df.loc[idx,'tstamp'] = data_time\n",
    "    return df.loc[:,['tstamp',' dl_prb',' ul_prb']]\n",
    "\n",
    "def read_app_timelog_list(file_path):\n",
    "    app_timelog = open(file_path,'r')\n",
    "    app_timelog_list = []\n",
    "    for line in app_timelog:\n",
    "        line = line.split('    ')\n",
    "        start_time = datetime.datetime.strptime(line[1][11:], '%H:%M:%S')\n",
    "        end_time = datetime.datetime.strptime(line[0][11:], '%H:%M:%S')\n",
    "        time_periods = (start_time, end_time)\n",
    "        app_timelog_list.append(time_periods)\n",
    "    return app_timelog_list\n",
    "\n",
    "def prb_map(prb_data, timelog_list):\n",
    "    prb_map_list = []\n",
    "    for periods in timelog_list:\n",
    "        prb_within_periods = prb_data.loc[(prb_data['tstamp']>=periods[0])&(prb_data['tstamp']<=periods[1])]\n",
    "        prb_within_periods = prb_within_periods.reset_index()\n",
    "        prb_map_list.append(prb_within_periods)\n",
    "    return prb_map_list\n",
    "\n",
    "def map_mean_prb(mean_prb_list):\n",
    "    bins = [0, 0.2, 0.4, 0.6, 0.8, 1.1]\n",
    "    labels = [0, 1, 2, 3, 4]\n",
    "    mapped_values = pd.cut(mean_prb_list, bins=bins, labels=labels, include_lowest=True)\n",
    "    mapped_values_list = mapped_values.to_list()\n",
    "    return mapped_values_list\n",
    "\n",
    "\n",
    "def insert_prb(encoded_data_path, label_path, prb_list, save_path):\n",
    "    encoded_data = pd.read_csv(encoded_data_path, sep=',')\n",
    "    label = pd.read_csv(label_path, sep=',')\n",
    "    last_index = encoded_data['series_id'][len(encoded_data)-1] # in general should be 300\n",
    "    encoded_data.insert(encoded_data.shape[1]-1,'dl_prb',0) # insert two new columns for prb values\n",
    "    encoded_data.insert(encoded_data.shape[1]-1,'ul_prb',0)\n",
    "    encoded_data.insert(encoded_data.shape[1]-1,'series_mean_dl_prb',0) # insert two new columns for prb values\n",
    "    encoded_data.insert(encoded_data.shape[1]-1,'series_mean_ul_prb',0)\n",
    "    mean_prb_list = [[],[]]\n",
    "\n",
    "    for idx in range (int(last_index)+1):\n",
    "        df_len_dl = encoded_data.loc[encoded_data['series_id']==idx, 'dl_prb'].shape[0]\n",
    "        df_len_ul = encoded_data.loc[encoded_data['series_id']==idx, 'ul_prb'].shape[0]\n",
    "        dl_prb_item = prb_list[idx][' dl_prb'].tolist()\n",
    "        ul_prb_item = prb_list[idx][' ul_prb'].tolist()\n",
    "        if len(dl_prb_item) < df_len_dl:\n",
    "            dl_prb_item.extend([0] * (df_len_dl - len(dl_prb_item)))\n",
    "            ul_prb_item.extend([0] * (df_len_ul - len(ul_prb_item)))\n",
    "        encoded_data.loc[encoded_data['series_id']==idx, 'dl_prb'] = dl_prb_item[:df_len_dl]\n",
    "        encoded_data.loc[encoded_data['series_id']==idx, 'ul_prb'] = ul_prb_item[:df_len_ul]\n",
    "        dl_series_mean_prb = np.mean(prb_list[idx][' dl_prb'][:df_len_dl].apply(lambda x: float(x.strip('%')) / 100))\n",
    "        ul_series_mean_prb = np.mean(prb_list[idx][' ul_prb'][:df_len_ul].apply(lambda x: float(x.strip('%')) / 100))\n",
    "        mean_prb_list[0].append(dl_series_mean_prb)\n",
    "        mean_prb_list[1].append(ul_series_mean_prb)\n",
    "    encoded_data.to_csv(save_path,sep=',')\n",
    "    label['mean_prb_dl'] = map_mean_prb(mean_prb_list[0])\n",
    "    label['mean_prb_ul'] = map_mean_prb(mean_prb_list[1])\n",
    "    label.to_csv(label_path, sep=',', index=False)\n",
    "    return encoded_data, label\n",
    "\n",
    "def series_mean_prb(prb_list, encoded_data):\n",
    "    mean_prb_df = pd.DataFrame(columns=['dl_mean_prb','ul_mean_prb'])\n",
    "    for idx, prb in enumerate(prb_list):\n",
    "        df_len_dl = encoded_data.loc[encoded_data['series_id']==idx, 'dl_prb'].shape[0]\n",
    "        df_len_ul = encoded_data.loc[encoded_data['series_id']==idx, 'ul_prb'].shape[0]\n",
    "        prb_data = pd.DataFrame([[np.mean(prb[' dl_prb'][:df_len_dl].apply(lambda x: float(x.strip('%')) / 100)), \\\n",
    "                               np.mean(prb[' ul_prb'][:df_len_ul].apply(lambda x: float(x.strip('%')) / 100))]], columns=['dl_mean_prb','ul_mean_prb'])\n",
    "        mean_prb_df = pd.concat([mean_prb_df, prb_data])\n",
    "    return mean_prb_df\n",
    "\n",
    "def mean_prb_sta(mean_prb_df, appname):\n",
    "    mean_prb_sta = pd.cut(mean_prb_df['dl_mean_prb'], bins=[0,0.2,0.4,0.6,0.8,1.2],right=False)\n",
    "    dl_counts = pd.value_counts(mean_prb_sta, sort=False)\n",
    "    dl_plot = plt.bar(dl_counts.index.astype(str), dl_counts)\n",
    "    plt.bar_label(dl_plot, dl_counts)\n",
    "    plt.title(f'{appname} Downlink Mean Prb Statistics')\n",
    "    plt.show()\n",
    "\n",
    "    mean_prb_sta = pd.cut(mean_prb_df['ul_mean_prb'], bins=[0,0.2,0.4,0.6,0.8,1.2],right=False)\n",
    "    ul_counts = pd.value_counts(mean_prb_sta, sort=False)\n",
    "    ul_plot = plt.bar(ul_counts.index.astype(str), ul_counts)\n",
    "    plt.bar_label(ul_plot, ul_counts)\n",
    "    plt.title(f'{appname} Uplink Mean Prb Statistics')\n",
    "    plt.show()\n",
    "\n",
    "    plt.plot(range(len(mean_prb_df['dl_mean_prb'])), mean_prb_df['dl_mean_prb'])\n",
    "    plt.plot(range(len(mean_prb_df['ul_mean_prb'])), mean_prb_df['ul_mean_prb'])\n",
    "    plt.legend(['dl_mean_prb','ul_mean_prb'])\n",
    "    plt.title(f'{appname} Instantaneous Prb Figure')\n",
    "    plt.show()\n",
    "\n",
    "def main(appname, date):\n",
    "    \"\"\"\n",
    "    appname: name of the app\n",
    "    date: e.g., '2023.9.9'\n",
    "    id_str: start sample index of the class\n",
    "    \"\"\"\n",
    "    # intermediate variable\n",
    "    day = date[5:].replace('.','_')\n",
    "    log_name = f'log_{appname}.txt'\n",
    "    Data_file_location = f'F:/airscope_data/validation_data/2023.9.24_facebook/'\n",
    "    # save file path\n",
    "    save_encoded_path = f'./Processed_data/Encoded_data/encoded_feature_{appname}.csv'  # Encoded data csv file\n",
    "    save_encoded_with_prb_path = f'./Processed_data/Encoded_data/encoded_feature_with_prb_{day}_{appname}.csv'  # Encoded data csv file\n",
    "    app_timelog_path = f'F:/airscope_data/validation_data/{date}_{appname}/' + log_name  # the path for the time stamp\n",
    "    airscope_csv_path  = Data_file_location+'airscope.csv'\n",
    "    label_path = f'./Processed_data/Encoded_data/encoded_feature_{appname}_label.csv'\n",
    "\n",
    "    prb_data = read_airscope_csv_file(airscope_csv_path)\n",
    "    app_timelog_list = read_app_timelog_list(app_timelog_path)\n",
    "    prb_list = prb_map(prb_data, app_timelog_list)\n",
    "    insert_prb(save_encoded_path, label_path, prb_list, save_encoded_with_prb_path)\n",
    "    # mean_prb_df = series_mean_prb(prb_list, encoded_data_with_prb)\n",
    "    # mean_prb_sta(mean_prb_df, appname)\n",
    "# main('facebook','2023.9.24')"
   ],
   "metadata": {
    "collapsed": false,
    "pycharm": {
     "name": "#%%\n"
    }
   }
  },
  {
   "cell_type": "code",
   "execution_count": 33,
   "outputs": [],
   "source": [
    "save_path = './Processed_data/Encoded_data/encoded_feature_facebook_with_prb.csv'  # Encoded data pkl file\n",
    "label_path = './Processed_data/Encoded_data/facebook_label.csv'\n",
    "\n",
    "def saveDatatoDB(save_path, label_path):\n",
    "    encoded_data = pd.read_csv(save_path, sep=',')\n",
    "    sub_dataframes = [group for _, group in encoded_data.groupby('series_id')]\n",
    "    y = pd.read_csv(label_path, sep=',')\n",
    "    for index, data in enumerate(sub_dataframes):\n",
    "        MongoDB.collection.insert_one({'traffic_service': y['service'].loc[index],\n",
    "                                       'app': y['app'].loc[index],\n",
    "                                       'dl_prb': str(y['mean_prb_dl'].loc[index]),\n",
    "                                       'ul_prb': str(y['mean_prb_ul'].loc[index]),\n",
    "                                       'data': data.iloc[:, 0:9].to_dict(orient='records')})\n",
    "\n",
    "saveDatatoDB(save_path, label_path)"
   ],
   "metadata": {
    "collapsed": false,
    "pycharm": {
     "name": "#%%\n"
    }
   }
  },
  {
   "cell_type": "code",
   "execution_count": 4,
   "outputs": [
    {
     "name": "stdout",
     "output_type": "stream",
     "text": [
      "Pinged your deployment. You successfully connected to MongoDB!\n"
     ]
    }
   ],
   "source": [
    "MongoDB = push_up.MongoBase('traffic_with_prb')\n",
    "MongoDB.saveDatatoDB(save_path, label_path)"
   ],
   "metadata": {
    "collapsed": false,
    "pycharm": {
     "name": "#%%\n"
    }
   }
  }
 ],
 "metadata": {
  "kernelspec": {
   "display_name": "Python 3",
   "language": "python",
   "name": "python3"
  },
  "language_info": {
   "codemirror_mode": {
    "name": "ipython",
    "version": 2
   },
   "file_extension": ".py",
   "mimetype": "text/x-python",
   "name": "python",
   "nbconvert_exporter": "python",
   "pygments_lexer": "ipython2",
   "version": "2.7.6"
  }
 },
 "nbformat": 4,
 "nbformat_minor": 0
}